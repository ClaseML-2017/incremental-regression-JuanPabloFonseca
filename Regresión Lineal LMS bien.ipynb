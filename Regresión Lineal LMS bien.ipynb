{
 "cells": [
  {
   "cell_type": "markdown",
   "metadata": {},
   "source": [
    "### Juan Pablo Fonseca Correa - 138263"
   ]
  },
  {
   "cell_type": "code",
   "execution_count": 48,
   "metadata": {
    "collapsed": true
   },
   "outputs": [],
   "source": [
    "# importar librerías y leer la base de datos\n",
    "import pandas as pd\n",
    "import numpy as np\n",
    "from scipy import sparse\n",
    "from sys import maxint\n",
    "from math import pow\n",
    "from math import fabs\n",
    "from __future__ import division\n",
    "from scipy.stats import norm\n",
    "from sklearn.model_selection import train_test_split\n",
    "from sklearn.metrics import confusion_matrix\n",
    "from sklearn.metrics import mean_squared_error\n",
    "from sklearn import linear_model\n",
    "from sklearn import preprocessing\n",
    "import matplotlib.pyplot as plt\n",
    "from random import uniform\n",
    "df = pd.read_csv('reglin.csv') # leo la bd "
   ]
  },
  {
   "cell_type": "code",
   "execution_count": 49,
   "metadata": {},
   "outputs": [],
   "source": [
    "# separar en conjuntos de entrenamiento y prueba\n",
    "X_train, X_test, Y_train, Y_test = train_test_split(df[df.columns[0:-1]],df[df.columns[-1]], train_size=0.75)\n",
    "p = len(X_train.columns)\n",
    "\n",
    "# tengo que estandarizarlos\n",
    "scaler = preprocessing.StandardScaler().fit(X_train)\n",
    "X_train_sc=scaler.transform(X_train)\n",
    "X_test_sc=scaler.transform(X_test)"
   ]
  },
  {
   "cell_type": "code",
   "execution_count": null,
   "metadata": {
    "collapsed": true
   },
   "outputs": [],
   "source": []
  },
  {
   "cell_type": "code",
   "execution_count": 50,
   "metadata": {
    "collapsed": true
   },
   "outputs": [],
   "source": [
    "def Vap(x, coeff):\n",
    "    vap = 0\n",
    "    for i in range(0,p+1):\n",
    "        vap += coeff[i]*x[i]\n",
    "    return vap"
   ]
  },
  {
   "cell_type": "code",
   "execution_count": 51,
   "metadata": {
    "collapsed": true
   },
   "outputs": [],
   "source": [
    "def error(coeff):\n",
    "    y = coeff[0]\n",
    "    for i in range(0,p):\n",
    "        y += coeff[i+1]*X_train_sc ## OJO: tal vez esto no sirva para p > 1\n",
    "    errores = [pow(y[i]-Y_train.iloc[i],2) for i in range(0,len(Y_train.values))]\n",
    "    error = sum(errores)\n",
    "    return error"
   ]
  },
  {
   "cell_type": "markdown",
   "metadata": {},
   "source": [
    "## eta = 0.01"
   ]
  },
  {
   "cell_type": "code",
   "execution_count": 66,
   "metadata": {},
   "outputs": [
    {
     "name": "stdout",
     "output_type": "stream",
     "text": [
      "w's estandarizadas:\n",
      "Pendiente: \n",
      "17.8985443262\n",
      "Ordenada al origen: \n",
      "31.7900210549\n",
      "\n",
      "errores: \n"
     ]
    },
    {
     "data": {
      "image/png": "[encoded data removed]",
      "text/plain": [
       "<matplotlib.figure.Figure at 0x20b08b00>"
      ]
     },
     "metadata": {},
     "output_type": "display_data"
    },
    {
     "name": "stdout",
     "output_type": "stream",
     "text": [
      "conforme avanzan las iteraciones, los errores van disminuyendo\n"
     ]
    }
   ],
   "source": [
    "w = [uniform(-5,5) for i in range(0,p+1)]\n",
    "eta = 0.01\n",
    "errores =[]\n",
    "for i in range (0,len(X_train)):\n",
    "    xi0 = [1]\n",
    "    xidemas=[X_train_sc[i][j] for j in range(0,p)]\n",
    "    xi = xi0 + xidemas\n",
    "    yi = Y_train.iloc[i]\n",
    "    error_actual = yi - Vap(xi,w)\n",
    "    errores.append(error(w))\n",
    "    # actualizas UNA vez para el dato i\n",
    "    for j in range(len(w)):\n",
    "        w[j] = w[j] + eta * error_actual * xi[j]\n",
    "\n",
    "    # IMPRIMIR CADA ITERACIÓN\n",
    "    # print \"Error actual: {0}\".format(error_actual)\n",
    "    # print \"Iteración {0}:\".format(i+1)\n",
    "    # for j in range(len(w)):\n",
    "    #     print \"w{0} = {1}   \".format(j,w[j])\n",
    "    # print \"\"\n",
    "# Muestro las w's\n",
    "print \"w's estandarizadas:\"\n",
    "print 'Pendiente: \\n', w[1] # w1\n",
    "print 'Ordenada al origen: \\n', w[0] # w0\n",
    "print \"\"\n",
    "\n",
    "print \"errores: \" \n",
    "x = np.linspace(0, len(errores), len(errores), endpoint=False)\n",
    "plt.plot(x,errores)\n",
    "plt.show()\n",
    "print \"conforme avanzan las iteraciones, los errores van disminuyendo\""
   ]
  },
  {
   "cell_type": "code",
   "execution_count": 67,
   "metadata": {},
   "outputs": [
    {
     "name": "stdout",
     "output_type": "stream",
     "text": [
      "error: 4603.68277442\n"
     ]
    }
   ],
   "source": [
    "err = 0\n",
    "for i in range(0,len(X_test_sc)):\n",
    "    dif = Y_test.iloc[i] - Vap([1]+X_test_sc[i].tolist(),w)\n",
    "    err += dif*dif\n",
    "print \"error:\",err"
   ]
  },
  {
   "cell_type": "code",
   "execution_count": 68,
   "metadata": {},
   "outputs": [
    {
     "data": {
      "image/png": "[encoded data removed]",
      "text/plain": [
       "<matplotlib.figure.Figure at 0x203cc978>"
      ]
     },
     "metadata": {},
     "output_type": "display_data"
    },
    {
     "name": "stdout",
     "output_type": "stream",
     "text": [
      "Recta obtenida con los datos de entrenamiento. Los puntos son datos de prueba. Con esto, se puede 'ver' que la recta es un buen modelo para nuevos datos.\n"
     ]
    }
   ],
   "source": [
    "plt.scatter(X_test_sc, Y_test,  color='black')\n",
    "Y_predict = [Vap([1]+X_test_sc[k][:].tolist(),w) for k in range(len(X_test_sc[:,0]))]\n",
    "plt.plot(X_test_sc, Y_predict, color='green', linewidth=3)\n",
    "plt.show()\n",
    "print \"Recta obtenida con los datos de entrenamiento. Los puntos son datos de prueba. Con esto, se puede 'ver' que la recta es un buen modelo para nuevos datos.\""
   ]
  },
  {
   "cell_type": "markdown",
   "metadata": {
    "collapsed": true
   },
   "source": [
    "## eta = 0.05"
   ]
  },
  {
   "cell_type": "code",
   "execution_count": 71,
   "metadata": {},
   "outputs": [
    {
     "name": "stdout",
     "output_type": "stream",
     "text": [
      "w's estandarizadas:\n",
      "Pendiente: \n",
      "17.8342225989\n",
      "Ordenada al origen: \n",
      "31.4413861741\n",
      "\n",
      "errores: \n"
     ]
    },
    {
     "data": {
      "image/png": "[encoded data removed]",
      "text/plain": [
       "<matplotlib.figure.Figure at 0x20b08cf8>"
      ]
     },
     "metadata": {},
     "output_type": "display_data"
    }
   ],
   "source": [
    "w = [uniform(-5,5) for i in range(0,p+1)]\n",
    "eta = 0.05\n",
    "errores =[]\n",
    "for i in range (0,len(X_train)):\n",
    "    xi0 = [1]\n",
    "    xidemas=[X_train_sc[i][j] for j in range(0,p)]\n",
    "    xi = xi0 + xidemas\n",
    "    yi = Y_train.iloc[i]\n",
    "    error_actual = yi - Vap(xi,w)\n",
    "    errores.append(error(w))\n",
    "    # actualizas UNA vez para el dato i\n",
    "    for j in range(len(w)):\n",
    "        w[j] = w[j] + eta * error_actual * xi[j]\n",
    "\n",
    "    # IMPRIMIR CADA ITERACIÓN\n",
    "    # print \"Error actual: {0}\".format(error_actual)\n",
    "    # print \"Iteración {0}:\".format(i+1)\n",
    "    # for j in range(len(w)):\n",
    "    #     print \"w{0} = {1}   \".format(j,w[j])\n",
    "    # print \"\"\n",
    "# Muestro las w's\n",
    "print \"w's estandarizadas:\"\n",
    "print 'Pendiente: \\n', w[1] # w1\n",
    "print 'Ordenada al origen: \\n', w[0] # w0\n",
    "print \"\"\n",
    "\n",
    "print \"errores: \" \n",
    "x = np.linspace(0, len(errores), len(errores), endpoint=False)\n",
    "plt.plot(x,errores)\n",
    "plt.show()"
   ]
  },
  {
   "cell_type": "markdown",
   "metadata": {},
   "source": [
    "###### conforme avanzan las iteraciones, los errores van disminuyendo"
   ]
  },
  {
   "cell_type": "code",
   "execution_count": 72,
   "metadata": {},
   "outputs": [
    {
     "name": "stdout",
     "output_type": "stream",
     "text": [
      "error: 4783.34084085\n"
     ]
    }
   ],
   "source": [
    "err = 0\n",
    "for i in range(0,len(X_test_sc)):\n",
    "    dif = Y_test.iloc[i] - Vap([1]+X_test_sc[i].tolist(),w)\n",
    "    err += dif*dif\n",
    "print \"error:\",err"
   ]
  },
  {
   "cell_type": "markdown",
   "metadata": {},
   "source": [
    "## eta = 0.1"
   ]
  },
  {
   "cell_type": "code",
   "execution_count": 73,
   "metadata": {},
   "outputs": [
    {
     "name": "stdout",
     "output_type": "stream",
     "text": [
      "w's estandarizadas:\n",
      "Pendiente: \n",
      "17.5935364236\n",
      "Ordenada al origen: \n",
      "31.0116706505\n",
      "\n",
      "errores: \n"
     ]
    },
    {
     "data": {
      "image/png": "[encoded data removed]",
      "text/plain": [
       "<matplotlib.figure.Figure at 0x1fa5b668>"
      ]
     },
     "metadata": {},
     "output_type": "display_data"
    }
   ],
   "source": [
    "w = [uniform(-5,5) for i in range(0,p+1)]\n",
    "eta = 0.1\n",
    "errores =[]\n",
    "for i in range (0,len(X_train)):\n",
    "    xi0 = [1]\n",
    "    xidemas=[X_train_sc[i][j] for j in range(0,p)]\n",
    "    xi = xi0 + xidemas\n",
    "    yi = Y_train.iloc[i]\n",
    "    error_actual = yi - Vap(xi,w)\n",
    "    errores.append(error(w))\n",
    "    # actualizas UNA vez para el dato i\n",
    "    for j in range(len(w)):\n",
    "        w[j] = w[j] + eta * error_actual * xi[j]\n",
    "\n",
    "    # IMPRIMIR CADA ITERACIÓN\n",
    "    # print \"Error actual: {0}\".format(error_actual)\n",
    "    # print \"Iteración {0}:\".format(i+1)\n",
    "    # for j in range(len(w)):\n",
    "    #     print \"w{0} = {1}   \".format(j,w[j])\n",
    "    # print \"\"\n",
    "# Muestro las w's\n",
    "print \"w's estandarizadas:\"\n",
    "print 'Pendiente: \\n', w[1] # w1\n",
    "print 'Ordenada al origen: \\n', w[0] # w0\n",
    "print \"\"\n",
    "\n",
    "print \"errores: \" \n",
    "x = np.linspace(0, len(errores), len(errores), endpoint=False)\n",
    "plt.plot(x,errores)\n",
    "plt.show()"
   ]
  },
  {
   "cell_type": "markdown",
   "metadata": {},
   "source": [
    "###### conforme avanzan las iteraciones, los errores van disminuyendo"
   ]
  },
  {
   "cell_type": "code",
   "execution_count": 74,
   "metadata": {},
   "outputs": [
    {
     "name": "stdout",
     "output_type": "stream",
     "text": [
      "error: 5113.5479818\n"
     ]
    }
   ],
   "source": [
    "err = 0\n",
    "for i in range(0,len(X_test_sc)):\n",
    "    dif = Y_test.iloc[i] - Vap([1]+X_test_sc[i].tolist(),w)\n",
    "    err += dif*dif\n",
    "print \"error:\",err"
   ]
  },
  {
   "cell_type": "markdown",
   "metadata": {},
   "source": [
    "## eta = 1"
   ]
  },
  {
   "cell_type": "code",
   "execution_count": 75,
   "metadata": {},
   "outputs": [
    {
     "name": "stdout",
     "output_type": "stream",
     "text": [
      "w's estandarizadas:\n",
      "Pendiente: \n",
      "16.1068195317\n",
      "Ordenada al origen: \n",
      "32.1969183143\n",
      "\n",
      "errores: \n"
     ]
    },
    {
     "data": {
      "image/png": "[encoded data removed]",
      "text/plain": [
       "<matplotlib.figure.Figure at 0x20735240>"
      ]
     },
     "metadata": {},
     "output_type": "display_data"
    },
    {
     "name": "stdout",
     "output_type": "stream",
     "text": [
      "Se puede ver que con eta = 1 simplemente no funciona; el error no decrece.\n"
     ]
    }
   ],
   "source": [
    "w = [uniform(-5,5) for i in range(0,p+1)]\n",
    "eta = 1\n",
    "errores =[]\n",
    "for i in range (0,len(X_train)):\n",
    "    xi0 = [1]\n",
    "    xidemas=[X_train_sc[i][j] for j in range(0,p)]\n",
    "    xi = xi0 + xidemas\n",
    "    yi = Y_train.iloc[i]\n",
    "    error_actual = yi - Vap(xi,w)\n",
    "    errores.append(error(w))\n",
    "    # actualizas UNA vez para el dato i\n",
    "    for j in range(len(w)):\n",
    "        w[j] = w[j] + eta * error_actual * xi[j]\n",
    "\n",
    "    # IMPRIMIR CADA ITERACIÓN\n",
    "    # print \"Error actual: {0}\".format(error_actual)\n",
    "    # print \"Iteración {0}:\".format(i+1)\n",
    "    # for j in range(len(w)):\n",
    "    #     print \"w{0} = {1}   \".format(j,w[j])\n",
    "    # print \"\"\n",
    "# Muestro las w's\n",
    "print \"w's estandarizadas:\"\n",
    "print 'Pendiente: \\n', w[1] # w1\n",
    "print 'Ordenada al origen: \\n', w[0] # w0\n",
    "print \"\"\n",
    "\n",
    "print \"errores: \" \n",
    "x = np.linspace(0, len(errores), len(errores), endpoint=False)\n",
    "plt.plot(x,errores)\n",
    "plt.show()\n",
    "print \"Se puede ver que con eta = 1 simplemente no funciona; el error no decrece.\""
   ]
  },
  {
   "cell_type": "markdown",
   "metadata": {},
   "source": [
    "### Parece que entre más grande la eta, más rápidamente se converge a un óptimo, y más rápidamente disminuye el error. Sin embargo, llega un límite en el cual con eta muy grande, ya deja de converger al óptimo, como se vio en este último caso."
   ]
  },
  {
   "cell_type": "code",
   "execution_count": 76,
   "metadata": {},
   "outputs": [
    {
     "name": "stdout",
     "output_type": "stream",
     "text": [
      "error: 5027.36209209\n"
     ]
    }
   ],
   "source": [
    "err = 0\n",
    "for i in range(0,len(X_test_sc)):\n",
    "    dif = Y_test.iloc[i] - Vap([1]+X_test_sc[i].tolist(),w)\n",
    "    err += dif*dif\n",
    "print \"error:\",err"
   ]
  },
  {
   "cell_type": "code",
   "execution_count": null,
   "metadata": {},
   "outputs": [],
   "source": []
  },
  {
   "cell_type": "code",
   "execution_count": null,
   "metadata": {},
   "outputs": [],
   "source": []
  }
 ],
 "metadata": {
  "kernelspec": {
   "display_name": "Python 2",
   "language": "python",
   "name": "python2"
  },
  "language_info": {
   "codemirror_mode": {
    "name": "ipython",
    "version": 2
   },
   "file_extension": ".py",
   "mimetype": "text/x-python",
   "name": "python",
   "nbconvert_exporter": "python",
   "pygments_lexer": "ipython2",
   "version": "2.7.6"
  }
 },
 "nbformat": 4,
 "nbformat_minor": 2
}
